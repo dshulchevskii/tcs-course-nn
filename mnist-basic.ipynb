{
 "cells": [
  {
   "cell_type": "code",
   "execution_count": 1,
   "metadata": {},
   "outputs": [],
   "source": [
    "import torch\n",
    "import torch.nn as nn\n",
    "import torch.nn.functional as F\n",
    "import torch.optim as optim\n",
    "from torchvision import datasets, transforms\n",
    "from torch.autograd import Variable"
   ]
  },
  {
   "cell_type": "code",
   "execution_count": 2,
   "metadata": {},
   "outputs": [],
   "source": [
    "import matplotlib\n",
    "import matplotlib.pyplot as plt\n",
    "import numpy as np\n",
    "%matplotlib inline"
   ]
  },
  {
   "cell_type": "code",
   "execution_count": 3,
   "metadata": {},
   "outputs": [],
   "source": [
    "def plot_mnist(images, shape):\n",
    "    fig = plt.figure()\n",
    "    for j in range(1, len(images) + 1):\n",
    "        ax = fig.add_subplot(shape[0], shape[1], j)\n",
    "        ax.matshow(images[j - 1, 0, :, :], cmap = matplotlib.cm.binary)\n",
    "        plt.xticks(np.array([]))\n",
    "        plt.yticks(np.array([]))\n",
    "    plt.show()"
   ]
  },
  {
   "cell_type": "code",
   "execution_count": 4,
   "metadata": {},
   "outputs": [],
   "source": [
    "train_loader = torch.utils.data.DataLoader(\n",
    "    datasets.MNIST('./dataset', train=True, download=True, transform=transforms.ToTensor()), \n",
    "    batch_size=50, shuffle=True)\n",
    "test_loader = torch.utils.data.DataLoader(\n",
    "    datasets.MNIST('./dataset', train=False, transform=transforms.ToTensor()), \n",
    "    batch_size=50, shuffle=True)"
   ]
  },
  {
   "cell_type": "code",
   "execution_count": 5,
   "metadata": {},
   "outputs": [],
   "source": [
    "class Net(nn.Module):\n",
    "    def __init__(self):\n",
    "        super(Net, self).__init__()\n",
    "        self.fc1 = nn.Linear(28*28, 256)\n",
    "        self.fc2 = nn.Linear(256, 256)\n",
    "        self.fc3 = nn.Linear(256, 10)\n",
    "        \n",
    "    def forward(self, x):\n",
    "        self.x_flatten = x.view(-1, 28*28)\n",
    "        self.h1 = F.sigmoid(self.fc1(self.x_flatten))\n",
    "        self.h2 = F.sigmoid(self.fc2(self.h1))\n",
    "        self.h3 = self.fc3(self.h2)\n",
    "        self.out = F.softmax(self.h3, dim=1)\n",
    "        return self.out"
   ]
  },
  {
   "cell_type": "code",
   "execution_count": 6,
   "metadata": {},
   "outputs": [],
   "source": [
    "model = Net()"
   ]
  },
  {
   "cell_type": "code",
   "execution_count": 7,
   "metadata": {},
   "outputs": [],
   "source": [
    "optimizer = optim.SGD(model.parameters(), lr=0.01)"
   ]
  },
  {
   "cell_type": "code",
   "execution_count": 8,
   "metadata": {},
   "outputs": [],
   "source": [
    "def train(epoch):\n",
    "    for batch_idx, (data, target) in enumerate(train_loader):\n",
    "        data, target = Variable(data), Variable(target)\n",
    "        optimizer.zero_grad()\n",
    "        output = model(data)\n",
    "        loss = F.cross_entropy(output, target)\n",
    "        loss.backward()\n",
    "        optimizer.step()\n",
    "        if batch_idx % 200 == 0:\n",
    "            print('Train Epoch: {} [{}/{} ({:.0f}%)]\\tLoss: {:.6f}'.format(\n",
    "                epoch, batch_idx * len(data), len(train_loader.dataset),\n",
    "                100. * batch_idx / len(train_loader), loss.data[0]))\n",
    "    else:\n",
    "        print('Train Epoch: {} [{}/{} ({:.0f}%)]\\tLoss: {:.6f}'.format(\n",
    "            epoch, batch_idx * len(data), len(train_loader.dataset),\n",
    "            100. * batch_idx / len(train_loader), loss.data[0]))"
   ]
  },
  {
   "cell_type": "code",
   "execution_count": 9,
   "metadata": {},
   "outputs": [],
   "source": [
    "def test(log=None):\n",
    "    test_loss = 0\n",
    "    test_correct = 0\n",
    "    for data, target in test_loader:\n",
    "        data, target = Variable(data, volatile=True), Variable(target)\n",
    "        output = model(data)\n",
    "        test_loss += F.cross_entropy(output, target, size_average=False).data[0] # sum up batch loss\n",
    "        pred = output.data.max(1, keepdim=True)[1] # get the index of the max log-probability\n",
    "        test_correct += pred.eq(target.data.view_as(pred)).sum()\n",
    "    test_loss /= len(test_loader.dataset)\n",
    "    test_correct_percent = 100. * test_correct / len(test_loader.dataset)\n",
    "    \n",
    "    train_loss = 0\n",
    "    train_correct = 0\n",
    "    for data, target in train_loader:\n",
    "        data, target = Variable(data, volatile=True), Variable(target)\n",
    "        output = model(data)\n",
    "        train_loss += F.cross_entropy(output, target, size_average=False).data[0] # sum up batch loss\n",
    "        pred = output.data.max(1, keepdim=True)[1] # get the index of the max log-probability\n",
    "        train_correct += pred.eq(target.data.view_as(pred)).sum()\n",
    "    train_loss /= len(train_loader.dataset)\n",
    "    train_correct_percent = 100. * train_correct / len(train_loader.dataset)\n",
    "    \n",
    "    print('\\nTest set:  Average loss: {:.4f}, Accuracy: {}/{} ({:.0f}%)'.format(\n",
    "        test_loss, test_correct, len(test_loader.dataset), test_correct_percent))\n",
    "    print('Train set: Average loss: {:.4f}, Accuracy: {}/{} ({:.0f}%)\\n'.format(\n",
    "        train_loss, train_correct, len(train_loader.dataset), train_correct_percent))\n",
    "    \n",
    "    log['test'].append((test_loss, test_correct_percent))\n",
    "    log['train'].append((train_loss, train_correct_percent))"
   ]
  },
  {
   "cell_type": "code",
   "execution_count": 10,
   "metadata": {},
   "outputs": [],
   "source": [
    "err_log = {'test': [], 'train': []}"
   ]
  },
  {
   "cell_type": "code",
   "execution_count": 11,
   "metadata": {},
   "outputs": [
    {
     "name": "stdout",
     "output_type": "stream",
     "text": [
      "Train Epoch: 1 [0/60000 (0%)]\tLoss: 2.304352\n",
      "Train Epoch: 1 [10000/60000 (17%)]\tLoss: 2.302630\n",
      "Train Epoch: 1 [20000/60000 (33%)]\tLoss: 2.302799\n",
      "Train Epoch: 1 [30000/60000 (50%)]\tLoss: 2.301278\n",
      "Train Epoch: 1 [40000/60000 (67%)]\tLoss: 2.307832\n",
      "Train Epoch: 1 [50000/60000 (83%)]\tLoss: 2.300670\n",
      "Train Epoch: 1 [59950/60000 (100%)]\tLoss: 2.299811\n",
      "\n",
      "Test set:  Average loss: 2.3011, Accuracy: 1135/10000 (11%)\n",
      "Train set: Average loss: 2.3013, Accuracy: 6742/60000 (11%)\n",
      "\n",
      "Train Epoch: 2 [0/60000 (0%)]\tLoss: 2.297959\n",
      "Train Epoch: 2 [10000/60000 (17%)]\tLoss: 2.296592\n",
      "Train Epoch: 2 [20000/60000 (33%)]\tLoss: 2.302118\n",
      "Train Epoch: 2 [30000/60000 (50%)]\tLoss: 2.300545\n",
      "Train Epoch: 2 [40000/60000 (67%)]\tLoss: 2.306026\n",
      "Train Epoch: 2 [50000/60000 (83%)]\tLoss: 2.300964\n",
      "Train Epoch: 2 [59950/60000 (100%)]\tLoss: 2.301340\n",
      "\n",
      "Test set:  Average loss: 2.3009, Accuracy: 1135/10000 (11%)\n",
      "Train set: Average loss: 2.3011, Accuracy: 6742/60000 (11%)\n",
      "\n",
      "Train Epoch: 3 [0/60000 (0%)]\tLoss: 2.308301\n",
      "Train Epoch: 3 [10000/60000 (17%)]\tLoss: 2.306474\n",
      "Train Epoch: 3 [20000/60000 (33%)]\tLoss: 2.302748\n",
      "Train Epoch: 3 [30000/60000 (50%)]\tLoss: 2.301701\n",
      "Train Epoch: 3 [40000/60000 (67%)]\tLoss: 2.296334\n",
      "Train Epoch: 3 [50000/60000 (83%)]\tLoss: 2.304447\n",
      "Train Epoch: 3 [59950/60000 (100%)]\tLoss: 2.303112\n",
      "\n",
      "Test set:  Average loss: 2.3007, Accuracy: 1135/10000 (11%)\n",
      "Train set: Average loss: 2.3009, Accuracy: 6742/60000 (11%)\n",
      "\n",
      "Train Epoch: 4 [0/60000 (0%)]\tLoss: 2.300401\n",
      "Train Epoch: 4 [10000/60000 (17%)]\tLoss: 2.289077\n",
      "Train Epoch: 4 [20000/60000 (33%)]\tLoss: 2.303066\n",
      "Train Epoch: 4 [30000/60000 (50%)]\tLoss: 2.301174\n",
      "Train Epoch: 4 [40000/60000 (67%)]\tLoss: 2.293688\n",
      "Train Epoch: 4 [50000/60000 (83%)]\tLoss: 2.289196\n",
      "Train Epoch: 4 [59950/60000 (100%)]\tLoss: 2.309167\n",
      "\n",
      "Test set:  Average loss: 2.3005, Accuracy: 1135/10000 (11%)\n",
      "Train set: Average loss: 2.3007, Accuracy: 6742/60000 (11%)\n",
      "\n",
      "Train Epoch: 5 [0/60000 (0%)]\tLoss: 2.304499\n",
      "Train Epoch: 5 [10000/60000 (17%)]\tLoss: 2.291881\n",
      "Train Epoch: 5 [20000/60000 (33%)]\tLoss: 2.297560\n",
      "Train Epoch: 5 [30000/60000 (50%)]\tLoss: 2.296338\n",
      "Train Epoch: 5 [40000/60000 (67%)]\tLoss: 2.302837\n",
      "Train Epoch: 5 [50000/60000 (83%)]\tLoss: 2.299048\n",
      "Train Epoch: 5 [59950/60000 (100%)]\tLoss: 2.308609\n",
      "\n",
      "Test set:  Average loss: 2.3004, Accuracy: 1135/10000 (11%)\n",
      "Train set: Average loss: 2.3005, Accuracy: 6742/60000 (11%)\n",
      "\n",
      "Train Epoch: 6 [0/60000 (0%)]\tLoss: 2.303267\n",
      "Train Epoch: 6 [10000/60000 (17%)]\tLoss: 2.303191\n",
      "Train Epoch: 6 [20000/60000 (33%)]\tLoss: 2.304952\n",
      "Train Epoch: 6 [30000/60000 (50%)]\tLoss: 2.290361\n",
      "Train Epoch: 6 [40000/60000 (67%)]\tLoss: 2.311738\n",
      "Train Epoch: 6 [50000/60000 (83%)]\tLoss: 2.303355\n",
      "Train Epoch: 6 [59950/60000 (100%)]\tLoss: 2.307069\n",
      "\n",
      "Test set:  Average loss: 2.3002, Accuracy: 1135/10000 (11%)\n",
      "Train set: Average loss: 2.3003, Accuracy: 6742/60000 (11%)\n",
      "\n",
      "Train Epoch: 7 [0/60000 (0%)]\tLoss: 2.311415\n",
      "Train Epoch: 7 [10000/60000 (17%)]\tLoss: 2.303416\n",
      "Train Epoch: 7 [20000/60000 (33%)]\tLoss: 2.299584\n",
      "Train Epoch: 7 [30000/60000 (50%)]\tLoss: 2.288897\n",
      "Train Epoch: 7 [40000/60000 (67%)]\tLoss: 2.299599\n",
      "Train Epoch: 7 [50000/60000 (83%)]\tLoss: 2.313480\n",
      "Train Epoch: 7 [59950/60000 (100%)]\tLoss: 2.310623\n",
      "\n",
      "Test set:  Average loss: 2.3000, Accuracy: 1135/10000 (11%)\n",
      "Train set: Average loss: 2.3001, Accuracy: 6742/60000 (11%)\n",
      "\n",
      "Train Epoch: 8 [0/60000 (0%)]\tLoss: 2.297344\n",
      "Train Epoch: 8 [10000/60000 (17%)]\tLoss: 2.291235\n",
      "Train Epoch: 8 [20000/60000 (33%)]\tLoss: 2.307654\n",
      "Train Epoch: 8 [30000/60000 (50%)]\tLoss: 2.303804\n",
      "Train Epoch: 8 [40000/60000 (67%)]\tLoss: 2.301643\n",
      "Train Epoch: 8 [50000/60000 (83%)]\tLoss: 2.298490\n",
      "Train Epoch: 8 [59950/60000 (100%)]\tLoss: 2.292722\n",
      "\n",
      "Test set:  Average loss: 2.2997, Accuracy: 1135/10000 (11%)\n",
      "Train set: Average loss: 2.2999, Accuracy: 6742/60000 (11%)\n",
      "\n",
      "Train Epoch: 9 [0/60000 (0%)]\tLoss: 2.305186\n",
      "Train Epoch: 9 [10000/60000 (17%)]\tLoss: 2.298334\n",
      "Train Epoch: 9 [20000/60000 (33%)]\tLoss: 2.295407\n",
      "Train Epoch: 9 [30000/60000 (50%)]\tLoss: 2.292929\n",
      "Train Epoch: 9 [40000/60000 (67%)]\tLoss: 2.290495\n",
      "Train Epoch: 9 [50000/60000 (83%)]\tLoss: 2.299305\n",
      "Train Epoch: 9 [59950/60000 (100%)]\tLoss: 2.312744\n",
      "\n",
      "Test set:  Average loss: 2.2995, Accuracy: 1135/10000 (11%)\n",
      "Train set: Average loss: 2.2996, Accuracy: 6742/60000 (11%)\n",
      "\n",
      "Train Epoch: 10 [0/60000 (0%)]\tLoss: 2.295437\n",
      "Train Epoch: 10 [10000/60000 (17%)]\tLoss: 2.293219\n",
      "Train Epoch: 10 [20000/60000 (33%)]\tLoss: 2.307866\n",
      "Train Epoch: 10 [30000/60000 (50%)]\tLoss: 2.300849\n",
      "Train Epoch: 10 [40000/60000 (67%)]\tLoss: 2.287572\n",
      "Train Epoch: 10 [50000/60000 (83%)]\tLoss: 2.297269\n",
      "Train Epoch: 10 [59950/60000 (100%)]\tLoss: 2.300070\n",
      "\n",
      "Test set:  Average loss: 2.2991, Accuracy: 1135/10000 (11%)\n",
      "Train set: Average loss: 2.2993, Accuracy: 6742/60000 (11%)\n",
      "\n",
      "Train Epoch: 11 [0/60000 (0%)]\tLoss: 2.297806\n",
      "Train Epoch: 11 [10000/60000 (17%)]\tLoss: 2.293934\n",
      "Train Epoch: 11 [20000/60000 (33%)]\tLoss: 2.302708\n",
      "Train Epoch: 11 [30000/60000 (50%)]\tLoss: 2.312485\n",
      "Train Epoch: 11 [40000/60000 (67%)]\tLoss: 2.292784\n",
      "Train Epoch: 11 [50000/60000 (83%)]\tLoss: 2.291973\n",
      "Train Epoch: 11 [59950/60000 (100%)]\tLoss: 2.304935\n",
      "\n",
      "Test set:  Average loss: 2.2988, Accuracy: 1135/10000 (11%)\n",
      "Train set: Average loss: 2.2990, Accuracy: 6742/60000 (11%)\n",
      "\n",
      "Train Epoch: 12 [0/60000 (0%)]\tLoss: 2.293645\n",
      "Train Epoch: 12 [10000/60000 (17%)]\tLoss: 2.293612\n",
      "Train Epoch: 12 [20000/60000 (33%)]\tLoss: 2.297135\n",
      "Train Epoch: 12 [30000/60000 (50%)]\tLoss: 2.304120\n",
      "Train Epoch: 12 [40000/60000 (67%)]\tLoss: 2.306220\n",
      "Train Epoch: 12 [50000/60000 (83%)]\tLoss: 2.293106\n",
      "Train Epoch: 12 [59950/60000 (100%)]\tLoss: 2.307676\n",
      "\n",
      "Test set:  Average loss: 2.2983, Accuracy: 1135/10000 (11%)\n",
      "Train set: Average loss: 2.2985, Accuracy: 6742/60000 (11%)\n",
      "\n",
      "Train Epoch: 13 [0/60000 (0%)]\tLoss: 2.306768\n",
      "Train Epoch: 13 [10000/60000 (17%)]\tLoss: 2.298882\n",
      "Train Epoch: 13 [20000/60000 (33%)]\tLoss: 2.278600\n",
      "Train Epoch: 13 [30000/60000 (50%)]\tLoss: 2.302442\n",
      "Train Epoch: 13 [40000/60000 (67%)]\tLoss: 2.287531\n",
      "Train Epoch: 13 [50000/60000 (83%)]\tLoss: 2.292328\n",
      "Train Epoch: 13 [59950/60000 (100%)]\tLoss: 2.306520\n",
      "\n",
      "Test set:  Average loss: 2.2978, Accuracy: 1135/10000 (11%)\n",
      "Train set: Average loss: 2.2980, Accuracy: 6742/60000 (11%)\n",
      "\n",
      "Train Epoch: 14 [0/60000 (0%)]\tLoss: 2.305275\n",
      "Train Epoch: 14 [10000/60000 (17%)]\tLoss: 2.301626\n",
      "Train Epoch: 14 [20000/60000 (33%)]\tLoss: 2.301132\n",
      "Train Epoch: 14 [30000/60000 (50%)]\tLoss: 2.303401\n",
      "Train Epoch: 14 [40000/60000 (67%)]\tLoss: 2.293763\n",
      "Train Epoch: 14 [50000/60000 (83%)]\tLoss: 2.293633\n",
      "Train Epoch: 14 [59950/60000 (100%)]\tLoss: 2.288307\n",
      "\n",
      "Test set:  Average loss: 2.2971, Accuracy: 1135/10000 (11%)\n",
      "Train set: Average loss: 2.2973, Accuracy: 6742/60000 (11%)\n",
      "\n",
      "Train Epoch: 15 [0/60000 (0%)]\tLoss: 2.297310\n",
      "Train Epoch: 15 [10000/60000 (17%)]\tLoss: 2.297840\n",
      "Train Epoch: 15 [20000/60000 (33%)]\tLoss: 2.304595\n",
      "Train Epoch: 15 [30000/60000 (50%)]\tLoss: 2.295836\n",
      "Train Epoch: 15 [40000/60000 (67%)]\tLoss: 2.300742\n",
      "Train Epoch: 15 [50000/60000 (83%)]\tLoss: 2.288594\n",
      "Train Epoch: 15 [59950/60000 (100%)]\tLoss: 2.302857\n",
      "\n",
      "Test set:  Average loss: 2.2961, Accuracy: 1135/10000 (11%)\n",
      "Train set: Average loss: 2.2964, Accuracy: 6742/60000 (11%)\n",
      "\n",
      "Train Epoch: 16 [0/60000 (0%)]\tLoss: 2.309532\n",
      "Train Epoch: 16 [10000/60000 (17%)]\tLoss: 2.314489\n",
      "Train Epoch: 16 [20000/60000 (33%)]\tLoss: 2.296889\n",
      "Train Epoch: 16 [30000/60000 (50%)]\tLoss: 2.299094\n",
      "Train Epoch: 16 [40000/60000 (67%)]\tLoss: 2.288416\n",
      "Train Epoch: 16 [50000/60000 (83%)]\tLoss: 2.296142\n",
      "Train Epoch: 16 [59950/60000 (100%)]\tLoss: 2.292321\n",
      "\n",
      "Test set:  Average loss: 2.2948, Accuracy: 1135/10000 (11%)\n",
      "Train set: Average loss: 2.2951, Accuracy: 6742/60000 (11%)\n",
      "\n",
      "Train Epoch: 17 [0/60000 (0%)]\tLoss: 2.311959\n",
      "Train Epoch: 17 [10000/60000 (17%)]\tLoss: 2.294320\n",
      "Train Epoch: 17 [20000/60000 (33%)]\tLoss: 2.268162\n",
      "Train Epoch: 17 [30000/60000 (50%)]\tLoss: 2.282212\n",
      "Train Epoch: 17 [40000/60000 (67%)]\tLoss: 2.303406\n",
      "Train Epoch: 17 [50000/60000 (83%)]\tLoss: 2.289086\n",
      "Train Epoch: 17 [59950/60000 (100%)]\tLoss: 2.304570\n",
      "\n",
      "Test set:  Average loss: 2.2929, Accuracy: 1135/10000 (11%)\n",
      "Train set: Average loss: 2.2933, Accuracy: 6742/60000 (11%)\n",
      "\n",
      "Train Epoch: 18 [0/60000 (0%)]\tLoss: 2.285632\n",
      "Train Epoch: 18 [10000/60000 (17%)]\tLoss: 2.275962\n",
      "Train Epoch: 18 [20000/60000 (33%)]\tLoss: 2.281835\n",
      "Train Epoch: 18 [30000/60000 (50%)]\tLoss: 2.273117\n"
     ]
    },
    {
     "name": "stdout",
     "output_type": "stream",
     "text": [
      "Train Epoch: 18 [40000/60000 (67%)]\tLoss: 2.299129\n",
      "Train Epoch: 18 [50000/60000 (83%)]\tLoss: 2.274626\n",
      "Train Epoch: 18 [59950/60000 (100%)]\tLoss: 2.308540\n",
      "\n",
      "Test set:  Average loss: 2.2899, Accuracy: 1135/10000 (11%)\n",
      "Train set: Average loss: 2.2904, Accuracy: 6742/60000 (11%)\n",
      "\n",
      "Train Epoch: 19 [0/60000 (0%)]\tLoss: 2.273592\n",
      "Train Epoch: 19 [10000/60000 (17%)]\tLoss: 2.312196\n",
      "Train Epoch: 19 [20000/60000 (33%)]\tLoss: 2.279631\n",
      "Train Epoch: 19 [30000/60000 (50%)]\tLoss: 2.281460\n",
      "Train Epoch: 19 [40000/60000 (67%)]\tLoss: 2.259197\n",
      "Train Epoch: 19 [50000/60000 (83%)]\tLoss: 2.279205\n",
      "Train Epoch: 19 [59950/60000 (100%)]\tLoss: 2.267526\n",
      "\n",
      "Test set:  Average loss: 2.2850, Accuracy: 1238/10000 (12%)\n",
      "Train set: Average loss: 2.2855, Accuracy: 7342/60000 (12%)\n",
      "\n",
      "Train Epoch: 20 [0/60000 (0%)]\tLoss: 2.275949\n",
      "Train Epoch: 20 [10000/60000 (17%)]\tLoss: 2.283893\n",
      "Train Epoch: 20 [20000/60000 (33%)]\tLoss: 2.272383\n",
      "Train Epoch: 20 [30000/60000 (50%)]\tLoss: 2.274220\n",
      "Train Epoch: 20 [40000/60000 (67%)]\tLoss: 2.284245\n",
      "Train Epoch: 20 [50000/60000 (83%)]\tLoss: 2.279007\n",
      "Train Epoch: 20 [59950/60000 (100%)]\tLoss: 2.291015\n",
      "\n",
      "Test set:  Average loss: 2.2762, Accuracy: 1839/10000 (18%)\n",
      "Train set: Average loss: 2.2770, Accuracy: 10893/60000 (18%)\n",
      "\n"
     ]
    }
   ],
   "source": [
    "for epoch in range(1, 21):\n",
    "    train(epoch)\n",
    "    test(err_log)"
   ]
  },
  {
   "cell_type": "code",
   "execution_count": 12,
   "metadata": {},
   "outputs": [
    {
     "name": "stdout",
     "output_type": "stream",
     "text": [
      "torch.Size([256, 784])\n",
      "torch.Size([256])\n",
      "torch.Size([256, 256])\n",
      "torch.Size([256])\n",
      "torch.Size([10, 256])\n",
      "torch.Size([10])\n"
     ]
    }
   ],
   "source": [
    "for p in model.parameters():\n",
    "    print(p.shape)"
   ]
  },
  {
   "cell_type": "code",
   "execution_count": 13,
   "metadata": {},
   "outputs": [],
   "source": [
    "data, target = next(iter(train_loader))\n",
    "vdata, vtarget = Variable(data), Variable(target)"
   ]
  },
  {
   "cell_type": "code",
   "execution_count": 14,
   "metadata": {},
   "outputs": [],
   "source": [
    "optimizer.zero_grad()\n",
    "output = model(vdata)\n",
    "loss = F.cross_entropy(output, vtarget)\n",
    "model.h3.retain_grad()\n",
    "loss.backward()"
   ]
  },
  {
   "cell_type": "code",
   "execution_count": 15,
   "metadata": {},
   "outputs": [
    {
     "data": {
      "text/plain": [
       "array([[3, 2, 8, 7, 1, 9, 2, 1, 0, 0],\n",
       "       [7, 7, 5, 5, 6, 0, 5, 4, 1, 8],\n",
       "       [3, 1, 0, 7, 3, 3, 6, 5, 0, 5],\n",
       "       [1, 9, 1, 3, 1, 7, 0, 0, 9, 6],\n",
       "       [8, 0, 4, 1, 2, 6, 2, 1, 9, 6]])"
      ]
     },
     "execution_count": 15,
     "metadata": {},
     "output_type": "execute_result"
    }
   ],
   "source": [
    "t = target.numpy().reshape((-1, 10))\n",
    "t"
   ]
  },
  {
   "cell_type": "code",
   "execution_count": 16,
   "metadata": {},
   "outputs": [
    {
     "data": {
      "text/plain": [
       "array([[1, 1, 1, 1, 1, 1, 1, 1, 1, 1],\n",
       "       [1, 0, 0, 1, 1, 0, 1, 1, 1, 1],\n",
       "       [1, 1, 0, 0, 1, 1, 1, 1, 0, 1],\n",
       "       [1, 1, 1, 1, 1, 1, 0, 1, 0, 1],\n",
       "       [1, 0, 1, 1, 1, 1, 1, 1, 1, 1]])"
      ]
     },
     "execution_count": 16,
     "metadata": {},
     "output_type": "execute_result"
    }
   ],
   "source": [
    "o = output.data.max(1, keepdim=True)[1].numpy().reshape((-1, 10))\n",
    "o"
   ]
  },
  {
   "cell_type": "code",
   "execution_count": 17,
   "metadata": {},
   "outputs": [
    {
     "data": {
      "text/plain": [
       "14"
      ]
     },
     "execution_count": 17,
     "metadata": {},
     "output_type": "execute_result"
    }
   ],
   "source": [
    "(t == o).sum()"
   ]
  },
  {
   "cell_type": "code",
   "execution_count": 18,
   "metadata": {},
   "outputs": [
    {
     "data": {
      "image/png": "[encoded data removed]",
      "text/plain": [
       "<matplotlib.figure.Figure at 0x7f7b3ef08b00>"
      ]
     },
     "metadata": {},
     "output_type": "display_data"
    }
   ],
   "source": [
    "plot_mnist(data.numpy(), (5, 10))"
   ]
  },
  {
   "cell_type": "code",
   "execution_count": 19,
   "metadata": {},
   "outputs": [
    {
     "data": {
      "text/plain": [
       "Variable containing:\n",
       " 1.1859  1.7352 -0.3696  0.0087 -0.5800 -1.9873 -0.2655  0.5867 -0.7819 -0.2464\n",
       " 1.2160  1.6156 -0.3550 -0.0131 -0.5726 -2.0014 -0.2614  0.6547 -0.7704 -0.2215\n",
       " 1.0319  2.1112 -0.4085 -0.0579 -0.5975 -2.0155 -0.3043  0.5652 -0.8063 -0.2699\n",
       " 1.0307  2.1189 -0.4149 -0.0579 -0.5979 -2.0232 -0.3117  0.6004 -0.8133 -0.2611\n",
       " 0.9507  2.3607 -0.4152 -0.0720 -0.6143 -2.0207 -0.3277  0.5200 -0.8233 -0.2988\n",
       " 1.1754  1.6866 -0.3817 -0.0237 -0.5623 -2.0066 -0.2647  0.6512 -0.7811 -0.2153\n",
       " 1.1566  1.7970 -0.3712 -0.0227 -0.5744 -2.0095 -0.2734  0.6015 -0.7850 -0.2406\n",
       " 0.9803  2.2692 -0.4125 -0.0674 -0.6075 -2.0232 -0.3207  0.5486 -0.8204 -0.2867\n",
       " 1.3349  1.3869 -0.3412  0.0171 -0.5643 -1.9853 -0.2384  0.6528 -0.7607 -0.2152\n",
       " 1.2665  1.5489 -0.3524  0.0065 -0.5702 -1.9920 -0.2541  0.6311 -0.7757 -0.2306\n",
       " 1.1934  1.6091 -0.3619 -0.0125 -0.5603 -2.0016 -0.2613  0.6651 -0.7728 -0.2080\n",
       " 1.3448  1.2360 -0.3551  0.0111 -0.5338 -2.0003 -0.2249  0.7473 -0.7607 -0.1642\n",
       " 1.3782  1.2414 -0.3342  0.0388 -0.5546 -1.9672 -0.2097  0.6371 -0.7433 -0.2114\n",
       " 1.2602  1.5271 -0.3527  0.0112 -0.5619 -1.9848 -0.2351  0.6194 -0.7738 -0.2212\n",
       " 1.1357  1.8420 -0.3639 -0.0371 -0.5804 -1.9991 -0.2631  0.5852 -0.7881 -0.2470\n",
       " 1.4533  1.0883 -0.3243  0.0347 -0.5379 -1.9696 -0.1962  0.6747 -0.7347 -0.1907\n",
       " 1.1650  1.7470 -0.3839 -0.0201 -0.5784 -2.0067 -0.2759  0.6302 -0.7838 -0.2296\n",
       " 1.2404  1.5126 -0.3582 -0.0122 -0.5475 -2.0019 -0.2437  0.6757 -0.7703 -0.1979\n",
       " 0.9576  2.3073 -0.4239 -0.0653 -0.6101 -2.0241 -0.3236  0.5406 -0.8295 -0.2843\n",
       " 1.1179  1.9234 -0.3799 -0.0390 -0.5883 -2.0059 -0.2834  0.5801 -0.7911 -0.2669\n",
       " 1.2039  1.6616 -0.3692  0.0023 -0.5713 -1.9905 -0.2588  0.6139 -0.7780 -0.2306\n",
       " 1.0412  2.1071 -0.3903 -0.0509 -0.5988 -2.0083 -0.3095  0.5521 -0.8057 -0.2812\n",
       " 1.5173  0.9384 -0.2941  0.0431 -0.5332 -1.9633 -0.1661  0.6835 -0.7270 -0.1862\n",
       " 1.3366  1.3062 -0.3592  0.0025 -0.5384 -1.9943 -0.2219  0.7174 -0.7596 -0.1816\n",
       " 1.2535  1.5564 -0.3401  0.0082 -0.5671 -1.9900 -0.2443  0.6057 -0.7669 -0.2409\n",
       " 1.1473  1.8313 -0.3641 -0.0171 -0.5880 -2.0045 -0.2812  0.5876 -0.7860 -0.2560\n",
       " 1.2130  1.6615 -0.3663 -0.0190 -0.5691 -1.9900 -0.2428  0.6010 -0.7821 -0.2311\n",
       " 1.2823  1.4976 -0.3532  0.0075 -0.5641 -1.9915 -0.2398  0.6361 -0.7642 -0.2201\n",
       " 1.3963  1.1988 -0.3402  0.0289 -0.5399 -1.9809 -0.2090  0.6816 -0.7454 -0.1922\n",
       " 1.2293  1.6047 -0.3606 -0.0025 -0.5747 -1.9980 -0.2563  0.6278 -0.7707 -0.2257\n",
       " 1.0283  2.1353 -0.4063 -0.0525 -0.5942 -2.0158 -0.3058  0.5649 -0.8184 -0.2737\n",
       " 1.1014  1.9103 -0.3933 -0.0456 -0.5807 -2.0171 -0.2859  0.6195 -0.7937 -0.2426\n",
       " 0.9647  2.3072 -0.4151 -0.0661 -0.6107 -2.0235 -0.3268  0.5343 -0.8183 -0.2920\n",
       " 1.1817  1.7186 -0.3625  0.0100 -0.5819 -1.9925 -0.2733  0.6006 -0.7809 -0.2435\n",
       " 0.9562  2.3284 -0.4096 -0.0742 -0.6145 -2.0228 -0.3283  0.5320 -0.8200 -0.2925\n",
       " 1.1059  1.9112 -0.3819 -0.0389 -0.5880 -2.0147 -0.2902  0.6132 -0.7961 -0.2499\n",
       " 1.3976  1.1828 -0.3378  0.0359 -0.5410 -1.9760 -0.2146  0.6925 -0.7385 -0.1892\n",
       " 1.3283  1.4064 -0.3431  0.0068 -0.5578 -1.9784 -0.2244  0.6436 -0.7579 -0.2135\n",
       " 1.3444  1.2366 -0.3420  0.0131 -0.5290 -1.9867 -0.2107  0.6979 -0.7491 -0.1684\n",
       " 1.1481  1.8175 -0.3775 -0.0290 -0.5765 -1.9995 -0.2570  0.5833 -0.7921 -0.2498\n",
       " 1.2231  1.6030 -0.3583 -0.0202 -0.5655 -1.9963 -0.2492  0.6432 -0.7739 -0.2153\n",
       " 1.3692  1.2861 -0.3318  0.0211 -0.5470 -1.9760 -0.2089  0.6501 -0.7604 -0.2045\n",
       " 1.2134  1.5771 -0.3682 -0.0039 -0.5495 -1.9925 -0.2528  0.6483 -0.7775 -0.2066\n",
       " 0.9695  2.2792 -0.4210 -0.0645 -0.6050 -2.0225 -0.3260  0.5516 -0.8292 -0.2822\n",
       " 1.1639  1.8010 -0.3534 -0.0236 -0.5812 -1.9903 -0.2566  0.5634 -0.7860 -0.2573\n",
       " 1.2458  1.5447 -0.3564 -0.0109 -0.5567 -1.9897 -0.2254  0.6126 -0.7717 -0.2232\n",
       " 1.2460  1.5499 -0.3342 -0.0131 -0.5586 -1.9896 -0.2353  0.6059 -0.7660 -0.2212\n",
       " 1.0182  2.1390 -0.4110 -0.0552 -0.5981 -2.0196 -0.3068  0.5670 -0.8117 -0.2704\n",
       " 1.2617  1.4787 -0.3475 -0.0033 -0.5528 -1.9920 -0.2400  0.6678 -0.7678 -0.2087\n",
       " 1.1885  1.7069 -0.3634 -0.0209 -0.5712 -1.9891 -0.2418  0.5850 -0.7816 -0.2353\n",
       "[torch.FloatTensor of size 50x10]"
      ]
     },
     "execution_count": 19,
     "metadata": {},
     "output_type": "execute_result"
    }
   ],
   "source": [
    "model.h3"
   ]
  },
  {
   "cell_type": "code",
   "execution_count": 20,
   "metadata": {},
   "outputs": [
    {
     "data": {
      "text/plain": [
       "Variable containing:\n",
       "1.00000e-03 *\n",
       "  0.2840  0.6351  0.0440 -1.2653  0.0350  0.0081  0.0493  0.1313  0.0282  0.0503\n",
       "  0.2282  0.4320 -0.9211  0.0441  0.0231  0.0051  0.0330  0.1025  0.0186  0.0345\n",
       "  0.0349  0.4875 -0.0014 -0.0003 -0.0016 -0.0007 -0.0012  0.0089 -0.5249 -0.0012\n",
       "  0.2949  1.2624  0.0600  0.0874  0.0496  0.0116  0.0668 -1.9428  0.0397  0.0705\n",
       "  1.4398 -4.6431  0.3606  0.5095  0.2951  0.0720  0.3938  0.9276  0.2392  0.4054\n",
       "  0.2336  0.5151  0.0332  0.0499  0.0272  0.0059  0.0379  0.1141  0.0214 -1.0383\n",
       "  0.1721  0.5026 -0.8733  0.0343  0.0179  0.0038  0.0253  0.0768  0.0141  0.0263\n",
       "  1.4802 -4.7104  0.3599  0.5096  0.2958  0.0715  0.3947  0.9515  0.2388  0.4085\n",
       " -3.8700  1.5628  0.2529  0.3648  0.2016  0.0481  0.2809  0.7061  0.1652  0.2876\n",
       " -3.6609  1.6636  0.2197  0.3173  0.1760  0.0420  0.2429  0.6078  0.1429  0.2488\n",
       "  0.6049  1.0110  0.1103  0.1590  0.0898  0.0208  0.1225 -2.3200  0.0722  0.1295\n",
       "  0.8923  0.7839  0.1390  0.2035  0.1156  0.0261  0.1591 -2.5803  0.0916  0.1694\n",
       "  0.1231  0.0859 -0.0036 -0.0019 -0.0037 -0.2029 -0.0033  0.0133 -0.0035 -0.0033\n",
       "  0.0706  0.1489 -0.0057 -0.0054 -0.0053 -0.1918 -0.0058  0.0051 -0.0048 -0.0058\n",
       "  0.1784  0.5639  0.0257  0.0377  0.0201  0.0044 -0.9581  0.0823  0.0160  0.0294\n",
       " -4.1860  1.3435  0.3096  0.4466  0.2493  0.0590  0.3528  0.8661  0.2043  0.3548\n",
       "  0.0304  0.2066 -0.0088 -0.0102 -0.0078 -0.1794 -0.0093 -0.0052 -0.0067 -0.0095\n",
       "  0.2151  0.3385  0.0242  0.0368 -0.7824  0.0040  0.0277  0.0917  0.0150  0.0293\n",
       "  1.4521 -4.6840  0.3575  0.5132  0.2965  0.0718  0.3955  0.9481  0.2378  0.4115\n",
       "  0.0797  0.4267  0.0050  0.0090  0.0035  0.0005  0.0059  0.0280 -0.5643  0.0061\n",
       "  0.3074  0.5967  0.0467 -1.2778  0.0376  0.0086  0.0527  0.1438  0.0301  0.0543\n",
       "  1.5540 -4.7610  0.3613  0.5090  0.2929  0.0712  0.3920  0.9394  0.2378  0.4034\n",
       " -4.3203  1.2267  0.3432  0.4840  0.2693  0.0638  0.3909  0.9379  0.2214  0.3830\n",
       "  0.8402  0.8101  0.1309  0.1909  0.1088  0.0248  0.1510 -2.5007  0.0867  0.1574\n",
       "  0.3551  0.5473  0.0526 -1.3102  0.0412  0.0094  0.0583  0.1544  0.0333  0.0586\n",
       "  0.2392  0.6686  0.0384 -1.2083  0.0301  0.0069  0.0421  0.1155  0.0243  0.0433\n",
       "  0.2448  0.4925  0.0331  0.0493  0.0265  0.0059 -1.0171  0.1055  0.0210  0.0386\n",
       "  0.0768  0.1395 -0.0055 -0.0051 -0.0052 -0.1909 -0.0056  0.0063 -0.0047 -0.0056\n",
       " -4.0520  1.4144  0.2835  0.4134  0.2315  0.0542  0.3241  0.8134  0.1880  0.3297\n",
       "  0.0562  0.1678 -0.0068 -0.0070 -0.0061 -0.1865 -0.0070  0.0019 -0.0054 -0.0070\n",
       "  1.5358 -4.7585  0.3564  0.5094  0.2950  0.0708  0.3944  0.9538  0.2354  0.4074\n",
       "  0.1581  0.5988  0.0230  0.0345  0.0186  0.0040  0.0260  0.0800  0.0146 -0.9576\n",
       "  1.4613 -4.6848  0.3603  0.5123  0.2960  0.0718  0.3939  0.9410  0.2403  0.4079\n",
       "  0.2876  0.6294  0.0452 -1.2727  0.0357  0.0082  0.0499  0.1362  0.0289  0.0515\n",
       "  1.4493 -4.6689  0.3627  0.5085  0.2952  0.0719  0.3936  0.9395  0.2401  0.4081\n",
       "  0.4114  1.1638  0.0802  0.1151  0.0648  0.0151  0.0883 -2.0830  0.0523  0.0921\n",
       " -4.0568  1.3952  0.2853  0.4180  0.2321  0.0547  0.3235  0.8260  0.1900  0.3320\n",
       " -3.8486  1.5768  0.2490  0.3561  0.2002  0.0478  0.2811  0.6900  0.1634  0.2842\n",
       "  0.3966  0.3396  0.0489  0.0728  0.0398  0.0087  0.0565  0.1653  0.0314 -1.1595\n",
       "  0.1884  0.5562  0.0266  0.0398  0.0212  0.0047 -0.9700  0.0856  0.0167  0.0308\n",
       "  0.1578  0.3172  0.0144  0.0226  0.0110  0.0021  0.0166  0.0600 -0.6191  0.0173\n",
       " -3.9766  1.4901  0.2732  0.3918  0.2195  0.0520  0.3096  0.7524  0.1768  0.3110\n",
       "  0.1973  0.3643  0.0225  0.0351 -0.7742  0.0038  0.0259  0.0839  0.0140  0.0274\n",
       "  1.4667 -4.7035  0.3576  0.5122  0.2971  0.0717  0.3935  0.9563  0.2372  0.4112\n",
       "  0.1771  0.5123 -0.8888  0.0351  0.0182  0.0040  0.0265  0.0745  0.0145  0.0265\n",
       "  0.2862  0.4507  0.0383  0.0567  0.0307  0.0068 -1.0591  0.1208  0.0243  0.0445\n",
       "  0.2578  0.4156 -0.9548  0.0486  0.0260  0.0057  0.0375  0.1049  0.0207  0.0381\n",
       "  1.5246 -4.7575  0.3559  0.5096  0.2947  0.0708  0.3953  0.9588  0.2378  0.4101\n",
       "  0.3072  0.4249  0.0412  0.0608  0.0328  0.0072  0.0464  0.1369  0.0260 -1.0835\n",
       "  0.2283  0.5153  0.0319  0.0473  0.0253  0.0057 -1.0104  0.0996  0.0201  0.0369\n",
       "[torch.FloatTensor of size 50x10]"
      ]
     },
     "execution_count": 20,
     "metadata": {},
     "output_type": "execute_result"
    }
   ],
   "source": [
    "model.h3.grad"
   ]
  },
  {
   "cell_type": "code",
   "execution_count": 21,
   "metadata": {},
   "outputs": [
    {
     "data": {
      "text/plain": [
       "{'test': [(2.3011497482299803, 11.35),\n",
       "  (2.3009042335510252, 11.35),\n",
       "  (2.3007299072265623, 11.35),\n",
       "  (2.3005343269348146, 11.35),\n",
       "  (2.300391411590576, 11.35),\n",
       "  (2.3001720718383787, 11.35),\n",
       "  (2.3000031997680663, 11.35),\n",
       "  (2.2997355308532716, 11.35),\n",
       "  (2.2994571548461913, 11.35),\n",
       "  (2.2991405227661135, 11.35),\n",
       "  (2.298772526550293, 11.35),\n",
       "  (2.2983113029479982, 11.35),\n",
       "  (2.297758497619629, 11.35),\n",
       "  (2.2970578010559084, 11.35),\n",
       "  (2.296134774017334, 11.35),\n",
       "  (2.2947861419677733, 11.35),\n",
       "  (2.2928720359802246, 11.35),\n",
       "  (2.2899325302124023, 11.35),\n",
       "  (2.2849817405700685, 12.38),\n",
       "  (2.276224890899658, 18.39)],\n",
       " 'train': [(2.301340489959717, 11.236666666666666),\n",
       "  (2.3010655972798664, 11.236666666666666),\n",
       "  (2.3008697566986083, 11.236666666666666),\n",
       "  (2.300699993769328, 11.236666666666666),\n",
       "  (2.3005141279856365, 11.236666666666666),\n",
       "  (2.300317647298177, 11.236666666666666),\n",
       "  (2.3001240716298423, 11.236666666666666),\n",
       "  (2.2998804392496743, 11.236666666666666),\n",
       "  (2.2996225980122884, 11.236666666666666),\n",
       "  (2.2993171334584552, 11.236666666666666),\n",
       "  (2.298962425104777, 11.236666666666666),\n",
       "  (2.298543652598063, 11.236666666666666),\n",
       "  (2.297987910207113, 11.236666666666666),\n",
       "  (2.2972994518280028, 11.236666666666666),\n",
       "  (2.296382509104411, 11.236666666666666),\n",
       "  (2.2951045768737792, 11.236666666666666),\n",
       "  (2.2932507670084634, 11.236666666666666),\n",
       "  (2.2903658696492513, 11.236666666666666),\n",
       "  (2.285547029622396, 12.236666666666666),\n",
       "  (2.277007527542114, 18.155)]}"
      ]
     },
     "execution_count": 21,
     "metadata": {},
     "output_type": "execute_result"
    }
   ],
   "source": [
    "err_log"
   ]
  },
  {
   "cell_type": "code",
   "execution_count": 22,
   "metadata": {},
   "outputs": [
    {
     "data": {
      "text/plain": [
       "<matplotlib.figure.Figure at 0x7f7b34a5b8d0>"
      ]
     },
     "execution_count": 22,
     "metadata": {},
     "output_type": "execute_result"
    },
    {
     "data": {
      "text/plain": [
       "<matplotlib.figure.Figure at 0x7f7b34a5b8d0>"
      ]
     },
     "metadata": {},
     "output_type": "display_data"
    }
   ],
   "source": [
    "plt.figure(figsize=(15, 15))"
   ]
  },
  {
   "cell_type": "code",
   "execution_count": 23,
   "metadata": {},
   "outputs": [],
   "source": [
    "train_log = [z for z in zip(*err_log['train'])]\n",
    "test_log = [z for z in zip(*err_log['test'])]"
   ]
  },
  {
   "cell_type": "code",
   "execution_count": 24,
   "metadata": {},
   "outputs": [
    {
     "data": {
      "image/png": "[encoded data removed]",
      "text/plain": [
       "<matplotlib.figure.Figure at 0x7f7b349856a0>"
      ]
     },
     "metadata": {},
     "output_type": "display_data"
    }
   ],
   "source": [
    "train_handler, = plt.plot(range(20), train_log[0], color='r', label='train')\n",
    "test_handler, = plt.plot(range(20), test_log[0], color='b', label='test')\n",
    "plt.title('errors')\n",
    "plt.xlabel('epoch')\n",
    "plt.ylabel('error')\n",
    "plt.legend(handles=[train_handler, test_handler])\n",
    "plt.show()"
   ]
  },
  {
   "cell_type": "code",
   "execution_count": 25,
   "metadata": {},
   "outputs": [
    {
     "data": {
      "image/png": "[encoded data removed]",
      "text/plain": [
       "<matplotlib.figure.Figure at 0x7f7b349b12b0>"
      ]
     },
     "metadata": {},
     "output_type": "display_data"
    }
   ],
   "source": [
    "train_handler, = plt.plot(range(20), train_log[1], color='r', label='train')\n",
    "test_handler, = plt.plot(range(20), test_log[1], color='b', label='test')\n",
    "plt.title('accuracy')\n",
    "plt.xlabel('epoch')\n",
    "plt.ylabel('accuracy')\n",
    "plt.legend(handles=[train_handler, test_handler])\n",
    "plt.show()"
   ]
  },
  {
   "cell_type": "code",
   "execution_count": null,
   "metadata": {},
   "outputs": [],
   "source": []
  }
 ],
 "metadata": {
  "kernelspec": {
   "display_name": "Python 3",
   "language": "python",
   "name": "python3"
  },
  "language_info": {
   "codemirror_mode": {
    "name": "ipython",
    "version": 3
   },
   "file_extension": ".py",
   "mimetype": "text/x-python",
   "name": "python",
   "nbconvert_exporter": "python",
   "pygments_lexer": "ipython3",
   "version": "3.6.3"
  }
 },
 "nbformat": 4,
 "nbformat_minor": 2
}
